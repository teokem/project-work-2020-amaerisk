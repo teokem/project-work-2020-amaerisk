{
 "cells": [
  {
   "cell_type": "markdown",
   "metadata": {},
   "source": [
    "# Molecular Parameters\n",
    "### Course lab KFKF01 spring 2020\n",
    "\n",
    "This notebook will be used as a guide for the students where they can do the calculations required for the lab on molecular parameters."
   ]
  },
  {
   "cell_type": "markdown",
   "metadata": {},
   "source": [
    "When determining the thermodynamic properties of a molecule, the following four parameters are of importance (where each property is further explained by the hyperlinks):\n",
    "\n",
    "\n",
    "\n",
    "$\\bullet$ <a href=https://en.wikipedia.org/wiki/Volume>Volume</a>\n",
    "\n",
    "$\\bullet$ <a href=https://en.wikipedia.org/wiki/Polarizability>Polarizability</a>\n",
    "\n",
    "$\\bullet$ <a href=https://en.wikipedia.org/wiki/Dipole#Molecular_dipoles>Dipole moment</a>\n",
    "\n",
    "$\\bullet$ <a href=https://en.wikipedia.org/wiki/PH>pH</a>\n",
    "\n",
    "The thermodynamic properties specified here are the phase of the molecule at a certian temperature and pressure, the solubility in different solvents, as well as the interaction with other molecules.\n",
    "\n",
    "#### Aim:\n",
    "\n",
    "The aim of this lab is for the students to get acquainted with how to experimentally determine these parameters, as well as understand how they are affected by temperature and the properties of the surrounding media.\n"
   ]
  },
  {
   "cell_type": "code",
   "execution_count": null,
   "metadata": {},
   "outputs": [],
   "source": [
    "import numpy as np\n",
    "import pandas as pd\n",
    "import matplotlib as mpl\n",
    "import matplotlib.pyplot as plt\n",
    "%matplotlib inline\n",
    "from mpl_toolkits.mplot3d import Axes3D\n",
    "from itertools import product, combinations\n",
    "from scipy.interpolate import make_interp_spline, BSpline"
   ]
  },
  {
   "cell_type": "code",
   "execution_count": null,
   "metadata": {},
   "outputs": [],
   "source": [
    "from cryptography.fernet import Fernet\n",
    "import base64\n",
    "def encrypt(string, key):\n",
    "    keygen = lambda x : base64.urlsafe_b64encode(x.encode() + b' '*(32 - len(x)))\n",
    "    cipher = Fernet(keygen(key))\n",
    "    return cipher.encrypt(string.encode())\n",
    "def decrypt(string, key):\n",
    "    keygen = lambda x : base64.urlsafe_b64encode(x.encode() + b' '*(32 - len(x)))\n",
    "    cipher = Fernet(keygen(key))\n",
    "    return print(cipher.decrypt(string.encode()).decode())"
   ]
  },
  {
   "cell_type": "markdown",
   "metadata": {},
   "source": [
    "# Part one - Volume"
   ]
  },
  {
   "cell_type": "markdown",
   "metadata": {},
   "source": [
    "##### 1. From the obtained densities, \n",
    "$\\textit{V$_{H2O}$}$ and $\\textit{V$_{ET}$}$ can be calculated in water and ethanol, respectively. For $\\textbf{pure liquids}$ the following is true: $\\textit{V*$_{H2O}=$}$$\\textit{V$_{H2O}$}$ in water, and $\\textit{V*$_{ET}=$}$$\\textit{V$_{ET}$}$ in ethanol."
   ]
  },
  {
   "cell_type": "code",
   "execution_count": null,
   "metadata": {},
   "outputs": [],
   "source": [
    "M_H2O=0.018015\n",
    "rho_H2O=997 #<insert measured value here>\n",
    "V_H2O=M_H2O/rho_H2O #m^3/mol\n",
    "V_H2O_Ångström= (V_H2O*10**30) #Å^3/mol\n",
    "print(V_H2O_Ångström)"
   ]
  },
  {
   "cell_type": "code",
   "execution_count": null,
   "metadata": {},
   "outputs": [],
   "source": [
    "M_ET=0.04607\n",
    "rho_ET=785 #<insert measured value here>\n",
    "V_ET=M_ET/rho_ET #m^3/mol\n",
    "V_ET_Ångström= (V_ET*10**30) #Å^3/mol\n",
    "print(V_ET_Ångström)"
   ]
  },
  {
   "cell_type": "code",
   "execution_count": null,
   "metadata": {},
   "outputs": [],
   "source": [
    "decrypt(answers.task1a,key)"
   ]
  },
  {
   "cell_type": "code",
   "execution_count": null,
   "metadata": {},
   "outputs": [],
   "source": [
    "decrypt(answers.task1b,key)"
   ]
  },
  {
   "cell_type": "markdown",
   "metadata": {},
   "source": [
    "###### 2. Calculate the volume of one water molecule and one ethanol molecule. The volumes should be given in Å^3."
   ]
  },
  {
   "cell_type": "code",
   "execution_count": null,
   "metadata": {},
   "outputs": [],
   "source": [
    "one_H2O=V_H2O_Ångström/(6.022*10**23) #Å^3, <insert measured value here>\n",
    "one_ET=V_ET_Ångström/(6.022*10**23) #Å^3, <insert measured value here>\n",
    "print(one_H2O,one_ET)"
   ]
  },
  {
   "cell_type": "code",
   "execution_count": null,
   "metadata": {},
   "outputs": [],
   "source": [
    "decrypt(answers.task2a,key)"
   ]
  },
  {
   "cell_type": "code",
   "execution_count": null,
   "metadata": {},
   "outputs": [],
   "source": [
    "decrypt(answers.task2b,key)"
   ]
  },
  {
   "cell_type": "markdown",
   "metadata": {},
   "source": [
    "###### 3. How large is the side of a cube with the same volume as a water molecule?"
   ]
  },
  {
   "cell_type": "code",
   "execution_count": null,
   "metadata": {},
   "outputs": [],
   "source": [
    "side_length= one_H2O**(1/3)\n",
    "print(side_length)\n",
    "\n",
    "fig = plt.figure()\n",
    "ax = fig.gca(projection='3d')\n",
    "ax.set_aspect(\"equal\")\n",
    "\n",
    "r = [-side_length, side_length]\n",
    "for s, e in combinations(np.array(list(product(r, r, r))), 2):\n",
    "    if np.sum(np.abs(s-e)) == r[1]-r[0]:\n",
    "        ax.plot3D(*zip(s, e), color=\"b\")"
   ]
  },
  {
   "cell_type": "code",
   "execution_count": null,
   "metadata": {},
   "outputs": [],
   "source": [
    "decrypt(answers.task3,key)"
   ]
  },
  {
   "cell_type": "markdown",
   "metadata": {},
   "source": [
    "# Part two - Polarizability"
   ]
  },
  {
   "cell_type": "markdown",
   "metadata": {},
   "source": [
    "##### 1. From the measured refractive index the dielectric constant of the solution can be calculated using:\n",
    "\n",
    "$$\\varepsilon_r=n^2.$$ The frequency for amber light is $$\\approx 6*10^{14} Hz. $$\n",
    "\n",
    "At the high frequency of amber light, the permanent dipoles of the molecules are negligible, and the total polarizability of the molecule is given by: \n",
    "$$ 3*\\varepsilon_0* \\frac {(\\varepsilon_r-1)}{(\\varepsilon_r+2)} = \\Big( \\frac{N}{V}\\Big)*\\Big( \\alpha_{ind} + \\frac{\\mu^2}{3k_BT} \\Big) \\approx \\Big( \\frac{N}{V} \\Big)*\\alpha_{ind}. $$ Where $\\alpha_{ind}$ is the induced polarizability, (N/V) is the number of molecules per volume unit, and $\\varepsilon_0 = 8.854*10^{-12} AsV^{-1}m^{-1} $ is the vacuum permittivity.\n",
    "The number of molecules per volume unit can be calculated from the density of the solution:\n",
    "$\\frac{N}{V} = \\frac{N}{m}*\\frac{m}{V} = \\frac{N_A}{M}*\\rho. $\n",
    "Combining these three relations, the following is given:\n",
    "$\\alpha_{ind} \\approx * \\frac{V}{N}*\\varepsilon_0*\\frac{\\varepsilon_r-1}{\\varepsilon+2}=\\frac{M}{N_A*\\rho}*3*\\varepsilon_0*\\frac{n^2-1}{n^2+2}$"
   ]
  },
  {
   "cell_type": "markdown",
   "metadata": {},
   "source": [
    "#### The densities of the used solutions at 25$^{\\circ}$C is given here:\n",
    "\n",
    "$\\rho_{H2O} = 997 kg/m^3$, $\\rho_{ET} = 785 kg/m^3$, $\\rho_{CHEX} = 774 kg/m^3$, $\\rho_{AcA} = 1049 kg/m^3$, $\\rho_{OCT} = 780 kg/m^3$.\n",
    "\n",
    "Where H2O corresponds to water, ET to ethanol, CHEX to cyclohexane, AcA to acetic acid, and OCT to octanol.\n",
    "\n",
    "#### The molecular masses for the used species are:\n",
    "\n",
    "$M_{H2O} = 18.015 g/mol$, $M_{ET} = 46.07 g/mol$, $M_{CHEX} = 84.16 g/mol$, $M_{AcA} = 60.05 g/mol$, $M_{OCT} = 130.23 g/mol$.\n",
    "\n",
    "#### Use this information to calculate the induced polarizability of the measured substances."
   ]
  },
  {
   "cell_type": "code",
   "execution_count": null,
   "metadata": {},
   "outputs": [],
   "source": [
    "#Exmple with water, possible to reproduce for other substances\n",
    "N_A=6.022*10**(23)\n",
    "eps_0=8.854*10**(-12)\n",
    "n_H2O=1.33 #<insert measured value here>\n",
    "pol_ind=M_H2O/(N_A*rho_H2O)*3*eps_0*((n_H2O**2-1)/(n_H2O**2+2)) #F*m^2\n",
    "print(pol_ind)"
   ]
  },
  {
   "cell_type": "markdown",
   "metadata": {},
   "source": [
    "#### Comparison with values from table.\n",
    "\n",
    "In Table 24.1 in $\\textit{Molecular Driving Forces}$ (K. Dill & S. Bromberg) is given examples of the induced polarizability of some molecules and bonds. Use this data to calculate the induced polarizability of the examined substances and compare with the values obtained from the measurement."
   ]
  },
  {
   "cell_type": "code",
   "execution_count": null,
   "metadata": {},
   "outputs": [],
   "source": [
    "#Exmple with water, possible to reproduce for other substances\n",
    "tab_H2O=1.48*10**-18 #m^3 #<insert tabulated here>\n",
    "pol_ind_tab=tab_H2O*4*np.pi*8.854*10**-12 #F*m^2\n",
    "print(pol_ind_tab)"
   ]
  },
  {
   "cell_type": "code",
   "execution_count": null,
   "metadata": {},
   "outputs": [],
   "source": [
    "decrypt(answers.task4,key)"
   ]
  },
  {
   "cell_type": "markdown",
   "metadata": {},
   "source": [
    "# Part three - Dipole moment"
   ]
  },
  {
   "cell_type": "markdown",
   "metadata": {},
   "source": [
    "##### 1. Calculate the induced polarizability of cyclohexane and of ethanol using:\n",
    "\n",
    "$3*\\varepsilon_0*\\frac{(\\varepsilon_r-1)}{\\varepsilon_r+2}=\\sum_k\\Big(\\frac{N_k}{V}\\Big)*\\Big(\\alpha_k+\\frac{\\mu^2_k}{3k_BT}\\Big),$\n",
    "where $\\alpha_k$\n",
    "is the induced polarizability, and $\\mu_k$\n",
    "is the permanent dipole moment of molecule $k$.\n",
    "\n",
    "The induced polarizability is calculated using the following:\n",
    "\n",
    "$3*\\varepsilon_0*\\frac{(n^2_k-1)}{(n^2_k+2)}=\\frac{N^*_c}{V}*\\alpha_c$"
   ]
  },
  {
   "cell_type": "markdown",
   "metadata": {},
   "source": [
    "##### 1. Calculate the induced polarisabilities for cyclo hexane and ethanol, using the refraction index values obtained."
   ]
  },
  {
   "cell_type": "code",
   "execution_count": null,
   "metadata": {},
   "outputs": [],
   "source": [
    "#Example with cyclo hexane, possible to reproduce for ethanol just change the values and indexes\n",
    "rho_CHEX=774 #kg/m^3\n",
    "n_CHEX=1.424 #<insert measured value here>\n",
    "M_CHEX=0.08416 #kg/mol\n",
    "pol_ind_CHEX=3*eps_0*(((n_CHEX**2)-1)/((n_CHEX**2)+2))*(M_CHEX/(rho_CHEX*N_A)) #F*m^2\n",
    "print(pol_ind_CHEX) "
   ]
  },
  {
   "cell_type": "code",
   "execution_count": null,
   "metadata": {},
   "outputs": [],
   "source": [
    "decrypt(answers.task5,key)"
   ]
  },
  {
   "cell_type": "markdown",
   "metadata": {},
   "source": [
    "###### 2. Calculate the quadratic permanent dipole moment from the measurement of the relative permittivity for cyclohexane."
   ]
  },
  {
   "cell_type": "code",
   "execution_count": null,
   "metadata": {},
   "outputs": [],
   "source": [
    "diel_CHEX=2.02 #<insert measured value here>\n",
    "\n",
    "dipole_CHEX_q=(((3*eps_0*((diel_CHEX-1)/(diel_CHEX+2)))/((rho_CHEX*N_A)/M_CHEX)-pol_ind_CHEX)*1.38*10**-23*298)\n",
    "print(dipole_CHEX_q)"
   ]
  },
  {
   "cell_type": "code",
   "execution_count": null,
   "metadata": {},
   "outputs": [],
   "source": [
    "decrypt(answers.task6,key)"
   ]
  },
  {
   "cell_type": "code",
   "execution_count": null,
   "metadata": {},
   "outputs": [],
   "source": [
    "answers = dict(\n",
    "task1a='gAAAAABegaThTqzVmKfQPqc2UtCcBAg-gccIFhQXIYrg3N3Juvxc-uhtMKftWNB2DHzzlE5dn9iDHDCTcx1wF4vyTtvb50VQRA7a8RYgMGoP0lbO9Az2MXQ=',\n",
    "task1b='gAAAAABegaUCuyCyw3b72-uOXlDm1OAyurN2Sqgjg9HhI1hs0ltYErqUDEatDyPpeEHqPsXVP8-XcLTPG35n39HB8ZJmTccYQJa3MEaoo0xM8SfeGMWPris=',\n",
    "task2a='gAAAAABegaWSHENC6cW5gjRoroKPfJpXhvozU6Wf7rwKjD18Qs0R16C9iD_hy_uHqFM7LCR6jdchafIN2l3F6rw4DtxtiLzOmHTTg4uXUibONFgnfFbirGc=',\n",
    "task2b='gAAAAABegaWtOWUiwWrYXEdIT0R4_upTOjOP0n-4KA-i2irpvBMSuWBcZ2sxronG9nYjddrRt75J3YzM94kXOp1_KRL6PVykOfrOzrGlzCWJHBFgA0ys-WI=',\n",
    "task3='gAAAAABegaX3ZbW1ZCov1GIkvtW98Z5C993IkviDj_2dAFi8V18V5Oo7-J3-oZr6DEPlV6z__CfbF9--a1VJAVwQN4Nllw7PJFohMwdxjtWZ_34VBefHTYU=',\n",
    "task4='gAAAAABegaZD9UaC3RvBWr-fXAOLk3avwEzhua-wlE81cYsj5LZ5B8X98ZCy0h_mzAzJNk3xOercsIJzpnx-YFGkzcVWxIt7u0Y303OU2mXpYKkdgLHENS-Eoqec0t_PePNxWdcfQLPJCR4yMfYLMhxcIeQPRS2MsE5zKhy_6gG4d0Wx7SVyQsOClSEdA7X5w-r06vv02MIzBAUfk3O2OmvsgsTcWQaJHw==',\n",
    "task5='gAAAAABegaaCJ-bhl-XVElgXum6G0tmrQmvoX1WHv-V0RXDabOKiaSypNpbh_xSEiWqtl1dxn62IlV7hM2NXeWGweNPPR0_SBJ3m8ymeUxlZOCUHwBpYRfU=',\n",
    "task6='gAAAAABegabRMdeFJ2tNYcne2lL0mdP8TngdlBEKoUE8qRw3N-1tb1rhY8oo2_plIvqvIKNRa4xG-JeDzY0vVIq3wcGM9l_vqH7v8PMhDwmyy0g2S-6n5_E=')"
   ]
  },
  {
   "cell_type": "code",
   "execution_count": null,
   "metadata": {},
   "outputs": [],
   "source": [
    "pd.Series(answers).T.to_pickle('answers.pkl')"
   ]
  },
  {
   "cell_type": "code",
   "execution_count": null,
   "metadata": {},
   "outputs": [],
   "source": [
    "answers = pd.read_pickle('answers.pkl')"
   ]
  },
  {
   "cell_type": "markdown",
   "metadata": {},
   "source": [
    "# Part four - pH"
   ]
  },
  {
   "cell_type": "markdown",
   "metadata": {},
   "source": [
    "When mixing acetic acid with water, the following reaction takes place:\n",
    "\n",
    "HAc + H2O <-> Ac- + H3O+.\n",
    "\n",
    "From the pKa value of HAc (4.79), calculate the acid constant and from that the pH at 7 concentrations of HAc in the range between 0.0001 and 1 M using the following:\n",
    "\n",
    "$\\begin{equation}\n",
    "\\frac{([Ac^-])\\cdot([H_3O^+])}{([HAc])}=K_a\n",
    "\\end{equation}$\n",
    "\n",
    "Save the values as a text file, and plot the pH and H+ concentration as a function of the HAc concentration."
   ]
  },
  {
   "cell_type": "code",
   "execution_count": null,
   "metadata": {},
   "outputs": [],
   "source": [
    "pKa = 4.79\n",
    "Ka= 10**(-pKa)\n",
    "print(Ka)"
   ]
  },
  {
   "cell_type": "code",
   "execution_count": null,
   "metadata": {},
   "outputs": [],
   "source": [
    "c_HAc=np.array([0.0001, 0.005, 0.01, 0.05, 0.1, 0.5, 1]) #<insert concentrations here>\n",
    "print(c_HAc)\n",
    "x2=c_HAc*Ka\n",
    "x=np.sqrt(x2)\n",
    "print(x)#gives H+ concentration"
   ]
  },
  {
   "cell_type": "code",
   "execution_count": null,
   "metadata": {},
   "outputs": [],
   "source": [
    "pH = -np.log10(x) #<insert relation here>\n",
    "print(pH)"
   ]
  },
  {
   "cell_type": "code",
   "execution_count": null,
   "metadata": {},
   "outputs": [],
   "source": [
    "pH_HAc=np.column_stack((c_HAc,x,pH))\n",
    "print(pH_HAc)\n",
    "np.savetxt('pH_HAc.txt', (pH_HAc))\n",
    "\n",
    "dataset = pd.DataFrame({'C_HAc': c_HAc, 'C_H+' : x , 'pH': pH})\n",
    "print(dataset)\n",
    "\n",
    "output = pd.ExcelWriter('pH_HAc.xlsx')\n",
    "dataset.to_excel(output,'Sheet1',index=False)\n",
    "output.save"
   ]
  },
  {
   "cell_type": "code",
   "execution_count": null,
   "metadata": {},
   "outputs": [],
   "source": [
    "pH_dat = np.loadtxt('pH_HAc.txt',delimiter=' ')\n",
    "pH_dat"
   ]
  },
  {
   "cell_type": "code",
   "execution_count": null,
   "metadata": {},
   "outputs": [],
   "source": [
    "conc,pH,conc_H=np.loadtxt('pH_HAc.txt',delimiter=' ',unpack=True)\n",
    "print(conc)\n",
    "print(pH)\n",
    "print(conc_H)"
   ]
  },
  {
   "cell_type": "code",
   "execution_count": null,
   "metadata": {},
   "outputs": [],
   "source": [
    "fig = plt.figure(figsize=(7.2,5))\n",
    "ax1 = plt.axes()\n",
    "\n",
    "ax1.plot(conc,pH, color='r',marker='o')\n",
    "ax2 = ax1.twinx()\n",
    "\n",
    "ax2.plot(conc,conc_H, color='b',marker='s')\n",
    "\n",
    "ax1.tick_params(axis='y', colors='r',labelsize=14)\n",
    "ax1.tick_params(axis='x',labelsize=14)\n",
    "ax1.set_ylabel('pH',color='r', fontsize=14)\n",
    "ax1.set_xlabel('HAc concentration (M)',fontsize=14)\n",
    "\n",
    "ax2.tick_params(axis='y', colors='b',labelsize=14)\n",
    "ax2.set_ylabel('H+ concentration (M)',color='b', fontsize=14)\n",
    "\n",
    "plt.savefig('figs/HAc_fig.eps')"
   ]
  },
  {
   "cell_type": "code",
   "execution_count": null,
   "metadata": {},
   "outputs": [],
   "source": []
  }
 ],
 "metadata": {
  "kernelspec": {
   "display_name": "Python 3",
   "language": "python",
   "name": "python3"
  },
  "language_info": {
   "codemirror_mode": {
    "name": "ipython",
    "version": 3
   },
   "file_extension": ".py",
   "mimetype": "text/x-python",
   "name": "python",
   "nbconvert_exporter": "python",
   "pygments_lexer": "ipython3",
   "version": "3.6.4"
  }
 },
 "nbformat": 4,
 "nbformat_minor": 4
}
